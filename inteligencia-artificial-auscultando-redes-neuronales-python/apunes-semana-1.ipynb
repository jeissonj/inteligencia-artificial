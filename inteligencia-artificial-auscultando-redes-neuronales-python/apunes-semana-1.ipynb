{
 "cells": [
  {
   "cell_type": "code",
   "execution_count": 1,
   "id": "91ae2287",
   "metadata": {},
   "outputs": [],
   "source": [
    "import numpy as np"
   ]
  },
  {
   "cell_type": "code",
   "execution_count": 2,
   "id": "008751df",
   "metadata": {},
   "outputs": [
    {
     "name": "stdout",
     "output_type": "stream",
     "text": [
      "Tipo de dato:  int32\n",
      "forma (shape) del areglo:  (3, 3)\n",
      "tamaño del areglo:  9\n",
      "Dimension del areglo:  2\n",
      "[[1 2 3]\n",
      " [4 5 6]\n",
      " [7 8 9]]\n"
     ]
    }
   ],
   "source": [
    "#n = ([[1,2,3],[1,2,3,4]])\n",
    "#m = np.array([[1,2,3],[1,2,3,4]])\n",
    "m= np.array([[1, 2, 3], [4, 5, 6], [7, 8, 9]])\n",
    "print(\"Tipo de dato: \", m.dtype)\n",
    "print(\"forma (shape) del areglo: \", m.shape)\n",
    "print(\"tamaño del areglo: \", m.size)\n",
    "print(\"Dimension del areglo: \", m.ndim)\n",
    "print(m)"
   ]
  },
  {
   "cell_type": "code",
   "execution_count": 4,
   "id": "aaa675cb",
   "metadata": {},
   "outputs": [
    {
     "name": "stdout",
     "output_type": "stream",
     "text": [
      "[ 0  1  2  3  4  5  6  7  8  9 10 11 12 13 14 15 16 17 18 19]\n",
      "[12 10  8  6  4  2]\n"
     ]
    }
   ],
   "source": [
    "m = np.arange(20)\n",
    "print(m)\n",
    "print(m[12:1:-2])"
   ]
  },
  {
   "cell_type": "markdown",
   "id": "8089df6d",
   "metadata": {},
   "source": [
    "### Mascaras\n",
    "Son caracteristicas (condicionales) que se le dan a nuestras entradas  "
   ]
  },
  {
   "cell_type": "code",
   "execution_count": 4,
   "id": "af54d812",
   "metadata": {},
   "outputs": [
    {
     "name": "stdout",
     "output_type": "stream",
     "text": [
      "a[a > 3] =  [4 5 6 7]\n",
      "a[a>3] =  [1 2 3 0 0 0 0]\n"
     ]
    }
   ],
   "source": [
    "a = np.array([1,2,3,4,5,6,7])#array\n",
    "mascara = [True,True, False,True, False, False, True]\n",
    "mascara_2 = a > 3\n",
    "print(\"a[a > 3] = \", a[mascara_2])\n",
    "a[a>3] = 0\n",
    "print(\"a[a>3] = \", a)"
   ]
  },
  {
   "cell_type": "markdown",
   "id": "5b4f68e0",
   "metadata": {},
   "source": [
    "#### Números aleatoríos\n",
    "NumPy contiene su propio generador de número aleatorios que se puede acceder mediante la función np.random.rand()"
   ]
  },
  {
   "cell_type": "code",
   "execution_count": 8,
   "id": "6a3eb5ce",
   "metadata": {},
   "outputs": [
    {
     "name": "stdout",
     "output_type": "stream",
     "text": [
      "[[[0.04514269 0.81555239 0.71610887 0.21803844]\n",
      "  [0.85699055 0.10997905 0.87164758 0.5671699 ]\n",
      "  [0.85767079 0.34280262 0.32031942 0.17003001]]\n",
      "\n",
      " [[0.7564304  0.90477839 0.63477648 0.39269408]\n",
      "  [0.83440703 0.01792108 0.52670908 0.29455316]\n",
      "  [0.9348465  0.77207598 0.66697928 0.05377812]]]\n"
     ]
    }
   ],
   "source": [
    "import numpy as np\n",
    "# puede generar vectores o matrices de diferentes dimenciones\n",
    "n,m,p = 2,3,4\n",
    "ma_1 = np.random.rand(n)\n",
    "ma_2 = np.random.rand(n,m)\n",
    "ma_3 = np.random.rand(n,m,p)\n",
    "print(ma_3)"
   ]
  },
  {
   "cell_type": "markdown",
   "id": "a608031f",
   "metadata": {},
   "source": [
    "La función np.random.seed() se utiliza en el módulo NumPy de Python para establecer la semilla del generador de números aleatorios. Esto es útil cuando se quiere reproducir los mismos resultados en experimentos o análisis que involucran números aleatorios."
   ]
  },
  {
   "cell_type": "code",
   "execution_count": 11,
   "id": "00ada339",
   "metadata": {},
   "outputs": [
    {
     "data": {
      "image/png": "[encoded data removed]",
      "text/plain": [
       "<Figure size 640x480 with 1 Axes>"
      ]
     },
     "metadata": {},
     "output_type": "display_data"
    }
   ],
   "source": [
    "#o seguir ciertas distribuciones estadisticas \n",
    "import numpy as np\n",
    "import matplotlib.pyplot as plt\n",
    "np.random.seed(12)  #semilla\n",
    "campana_gauss = np.random.randn(10000)\n",
    "plt.hist(campana_gauss, bins=1000)\n",
    "plt.show()"
   ]
  },
  {
   "cell_type": "code",
   "execution_count": 2,
   "id": "cabcd87f",
   "metadata": {},
   "outputs": [],
   "source": [
    "# en mi pc no funciona el tensor flow con las distribuciones por defefcto ni con la 3.11 de conda\n",
    "\n",
    "import time\n",
    "import os\n",
    "import tensorflow.compat.v1 as tf\n",
    "import numpy as np\n",
    "# TAMAÑO DE LA MATRIZ: SIZExSIZE"
   ]
  },
  {
   "cell_type": "code",
   "execution_count": 4,
   "id": "0980f00b",
   "metadata": {},
   "outputs": [
    {
     "name": "stdout",
     "output_type": "stream",
     "text": [
      "GPU is not available\n"
     ]
    }
   ],
   "source": [
    "# de este modo comprobamos si hay o no GPus, como se trabaja de manera local, en este caso no se tendra gpu\n",
    "gpus = tf.config.experimental.list_physical_devices('GPU')\n",
    "if gpus:\n",
    " print('GPU is available')\n",
    "else:\n",
    " print('GPU is not available')\n",
    " "
   ]
  },
  {
   "cell_type": "code",
   "execution_count": 5,
   "id": "f0d60f29",
   "metadata": {},
   "outputs": [
    {
     "name": "stdout",
     "output_type": "stream",
     "text": [
      "Producto de dos Matrices de orden 500x500\n",
      "CPU con Python en s =  1278.4151968955994\n",
      "CPU con Numpy en s =  1.6609604358673096\n",
      "GPU con TensorFlow en s =  0.5826351642608643\n"
     ]
    }
   ],
   "source": [
    "# ejemplo de comparacio de tiempos entre cpu y gpu (como mi pc es antiguo se demora mucho mucho por ello no la correre)\n",
    "SIZE = 500\n",
    "a = np.random.rand(SIZE, SIZE)\n",
    "b = np.random.rand(SIZE, SIZE)\n",
    "result = np.zeros((SIZE, SIZE))\n",
    "print('Producto de dos Matrices de orden 500x500')\n",
    "# CONSULTAR SI TF ESTA USANDO gpu\n",
    "\n",
    "inicio = time.time()\n",
    "\n",
    "for i in range(SIZE):\n",
    " for j in range(SIZE):\n",
    "  for k in range(SIZE):\n",
    "    result[i,j] += a[i,k] * b[k,j]\n",
    "\n",
    "intervalo = time.time() - inicio\n",
    "print('CPU con Python en s = ',intervalo)\n",
    "# CÁLCULO CON CON CPU Y NUMPY\n",
    "inicio = time.time()\n",
    "result = np.dot(a,b)\n",
    "intervalo = time.time() - inicio\n",
    "\n",
    "print('CPU con Numpy en s = ',intervalo)  \n",
    "# CÁLCULO CON CON GPU y TENSORFLOW\n",
    "ta = tf.convert_to_tensor(a)\n",
    "tb = tf.convert_to_tensor(b)\n",
    "inicio = time.time()\n",
    "#result = tf.tensordot(a, b, axes =1, name=None)\n",
    "result = tf.math.multiply(ta,tb)\n",
    "intervalo = time.time() - inicio\n",
    "print('GPU con TensorFlow en s = ',intervalo)"
   ]
  },
  {
   "cell_type": "code",
   "execution_count": null,
   "id": "7074f103",
   "metadata": {},
   "outputs": [],
   "source": []
  }
 ],
 "metadata": {
  "kernelspec": {
   "display_name": "Python 3 (ipykernel)",
   "language": "python",
   "name": "python3"
  },
  "language_info": {
   "codemirror_mode": {
    "name": "ipython",
    "version": 3
   },
   "file_extension": ".py",
   "mimetype": "text/x-python",
   "name": "python",
   "nbconvert_exporter": "python",
   "pygments_lexer": "ipython3",
   "version": "3.9.13"
  }
 },
 "nbformat": 4,
 "nbformat_minor": 5
}
