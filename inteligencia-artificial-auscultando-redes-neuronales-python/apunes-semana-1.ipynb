{
 "cells": [
  {
   "cell_type": "code",
   "execution_count": 3,
   "id": "91ae2287",
   "metadata": {},
   "outputs": [],
   "source": [
    "import numpy as np"
   ]
  },
  {
   "cell_type": "code",
   "execution_count": 11,
   "id": "008751df",
   "metadata": {},
   "outputs": [
    {
     "name": "stdout",
     "output_type": "stream",
     "text": [
      "Tipo de dato:  int32\n",
      "forma (shape) del areglo:  (3, 3)\n",
      "tamaño del areglo:  9\n",
      "Dimension del areglo:  2\n",
      "[[1 2 3]\n",
      " [4 5 6]\n",
      " [7 8 9]]\n"
     ]
    }
   ],
   "source": [
    "#n = ([[1,2,3],[1,2,3,4]])\n",
    "#m = np.array([[1,2,3],[1,2,3,4]])\n",
    "m= np.array([[1, 2, 3], [4, 5, 6], [7, 8, 9]])\n",
    "print(\"Tipo de dato: \", m.dtype)\n",
    "print(\"forma (shape) del areglo: \", m.shape)\n",
    "print(\"tamaño del areglo: \", m.size)\n",
    "print(\"Dimension del areglo: \", m.ndim)\n",
    "print(m)"
   ]
  },
  {
   "cell_type": "markdown",
   "id": "d99dbf99",
   "metadata": {},
   "source": []
  },
  {
   "cell_type": "code",
   "execution_count": 4,
   "id": "aaa675cb",
   "metadata": {},
   "outputs": [
    {
     "name": "stdout",
     "output_type": "stream",
     "text": [
      "[ 0  1  2  3  4  5  6  7  8  9 10 11 12 13 14 15 16 17 18 19]\n",
      "[12 10  8  6  4  2]\n"
     ]
    }
   ],
   "source": [
    "m = np.arange(20)\n",
    "print(m)\n",
    "print(m[12:1:-2])"
   ]
  },
  {
   "cell_type": "markdown",
   "id": "8089df6d",
   "metadata": {},
   "source": [
    "### Mascaras\n",
    "Son caracteristicas (condicionales) que se le dan a nuestras entradas  "
   ]
  },
  {
   "cell_type": "code",
   "execution_count": 7,
   "id": "af54d812",
   "metadata": {},
   "outputs": [
    {
     "name": "stdout",
     "output_type": "stream",
     "text": [
      "[4 5 6 7]\n"
     ]
    }
   ],
   "source": [
    "a = np.array([1,2,3,4,5,6,7])#array\n",
    "mascara = [True,True, False,True, False, False, True]\n",
    "mascara_2 = a > 3\n",
    "print(a[mascara_2])"
   ]
  },
  {
   "cell_type": "code",
   "execution_count": 8,
   "id": "6a3eb5ce",
   "metadata": {},
   "outputs": [
    {
     "name": "stdout",
     "output_type": "stream",
     "text": [
      "[1 2 3 0 0 0 0]\n"
     ]
    }
   ],
   "source": [
    "a[a>3] = 0\n",
    "print(a)"
   ]
  },
  {
   "cell_type": "markdown",
   "id": "a608031f",
   "metadata": {},
   "source": []
  },
  {
   "cell_type": "code",
   "execution_count": null,
   "id": "00ada339",
   "metadata": {},
   "outputs": [],
   "source": []
  }
 ],
 "metadata": {
  "kernelspec": {
   "display_name": "Python 3 (ipykernel)",
   "language": "python",
   "name": "python3"
  },
  "language_info": {
   "codemirror_mode": {
    "name": "ipython",
    "version": 3
   },
   "file_extension": ".py",
   "mimetype": "text/x-python",
   "name": "python",
   "nbconvert_exporter": "python",
   "pygments_lexer": "ipython3",
   "version": "3.11.4"
  }
 },
 "nbformat": 4,
 "nbformat_minor": 5
}
