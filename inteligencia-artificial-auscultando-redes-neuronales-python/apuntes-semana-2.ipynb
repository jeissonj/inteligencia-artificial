{
 "cells": [
  {
   "cell_type": "code",
   "execution_count": 1,
   "metadata": {},
   "outputs": [],
   "source": [
    "import numpy as np\n",
    "import tensorflow as tf\n",
    "import matplotlib.pyplot as plt"
   ]
  },
  {
   "cell_type": "code",
   "execution_count": 2,
   "metadata": {},
   "outputs": [
    {
     "name": "stdout",
     "output_type": "stream",
     "text": [
      "Downloading data from https://storage.googleapis.com/tensorflow/tf-keras-datasets/mnist.npz\n",
      "11490434/11490434 [==============================] - 3s 0us/step\n",
      "Cantidad de imágenes de Entrenamiento 60000\n",
      "Cantidad de etiquetas de Entrenamiento 60000\n",
      "Cantidad de imágenes de Testeo 10000\n",
      "Cantidad de etiquetas de Testeo 10000\n"
     ]
    }
   ],
   "source": [
    "\n",
    "mnist = tf.keras.datasets.mnist\n",
    "(imagenes_entrenamiento, etiquetas_entrenamiento), (imagenes_testeo, etiquetas_testeo) = mnist.load_data()\n",
    "print(\"Cantidad de imágenes de Entrenamiento\",len(imagenes_entrenamiento))\n",
    "print(\"Cantidad de etiquetas de Entrenamiento\",len(etiquetas_entrenamiento))\n",
    "print(\"Cantidad de imágenes de Testeo\",len(imagenes_testeo))\n",
    "print(\"Cantidad de etiquetas de Testeo\",len(etiquetas_testeo))"
   ]
  },
  {
   "cell_type": "code",
   "execution_count": null,
   "metadata": {},
   "outputs": [],
   "source": []
  }
 ],
 "metadata": {
  "kernelspec": {
   "display_name": "base",
   "language": "python",
   "name": "python3"
  },
  "language_info": {
   "codemirror_mode": {
    "name": "ipython",
    "version": 3
   },
   "file_extension": ".py",
   "mimetype": "text/x-python",
   "name": "python",
   "nbconvert_exporter": "python",
   "pygments_lexer": "ipython3",
   "version": "3.9.13"
  }
 },
 "nbformat": 4,
 "nbformat_minor": 2
}
